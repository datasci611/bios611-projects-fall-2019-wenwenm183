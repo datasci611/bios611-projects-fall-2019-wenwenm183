{
 "cells": [
  {
   "cell_type": "code",
   "execution_count": 16,
   "metadata": {},
   "outputs": [],
   "source": [
    "# load Python packages used data wrangling\n",
    "import pandas as pd\n",
    "import numpy as np\n",
    "import datetime as datetime\n",
    "\n",
    "# Datasets\n",
    "health = pd.read_csv(\"https://raw.githubusercontent.com/biodatascience/datasci611/gh-pages/data/project2_2019/HEALTH_INS_ENTRY_191102.tsv\", sep = '\\t')\n",
    "client = pd.read_csv('https://raw.githubusercontent.com/biodatascience/datasci611/gh-pages/data/project2_2019/CLIENT_191102.tsv',sep='\\t')\n",
    "\n",
    "# merge the two datasets\n",
    "health['Entry'] =  pd.to_datetime(health['Health Insurance Start Date (Entry)'], format='%m/%d/%Y')\n",
    "health1 = health.drop(['EE Provider ID','EE UID', 'Client Unique ID','Health Insurance End Date (Entry)','Provider (4307-provider)','Recordset ID (4307-recordset_id)','Date Added (4307-date_added)'], axis=1)\n",
    "client1 = client.drop(['EE Provider ID','EE UID','Client Unique ID',], axis=1)\n",
    "\n",
    "ch = client1.merge(health1, on=['Client ID'], how='left')\n",
    "\n",
    "ch['year']=pd.DatetimeIndex(ch['Entry']).year\n",
    "ch['month']=pd.DatetimeIndex(ch['Entry']).month\n",
    "\n",
    "#new datasets formed \n",
    "temp=ch.drop_duplicates('Client ID').sort_values(by=['Client ID'])\n",
    "visits= ch.drop(['Health Insurance Type (Entry)',],axis=1).drop_duplicates().groupby('Client ID').size().to_frame('Number of Visits')\n",
    "client_info= temp.merge(visits, on=['Client ID'], how='left')\n",
    "client_info1=client_info.dropna(subset=['Health Insurance Type (Entry)', \"Client Veteran Status\"])\n"
   ]
  },
  {
   "cell_type": "code",
   "execution_count": 17,
   "metadata": {},
   "outputs": [],
   "source": [
    "from pandas import DataFrame\n",
    "\n",
    "export_csv = client_info1.to_csv (r'/Users/mwen/Documents/GitHub/bios611-projects-fall-2019-wenwenm183/project_3/data/final_project.csv', index = None, header=True)"
   ]
  },
  {
   "cell_type": "code",
   "execution_count": 22,
   "metadata": {},
   "outputs": [
    {
     "data": {
      "text/plain": [
       "Client Gender\n",
       "Female                                   606\n",
       "Male                                    1583\n",
       "Trans Female (MTF or Male to Female)       8\n",
       "Name: Client ID, dtype: int64"
      ]
     },
     "execution_count": 22,
     "metadata": {},
     "output_type": "execute_result"
    }
   ],
   "source": [
    "#summary statistics \n",
    "client_info1.groupby(['Client Gender']).count()['Client ID']\n"
   ]
  },
  {
   "cell_type": "code",
   "execution_count": 26,
   "metadata": {},
   "outputs": [],
   "source": [
    "#new dataset \n",
    "from pandas import DataFrame\n",
    "client_info2=client_info1[client_info1['year']>= 2013]\n",
    "export_csv = client_info2.to_csv (r'/Users/mwen/Documents/GitHub/bios611-projects-fall-2019-wenwenm183/project_3/data/final_project1.csv', index = None, header=True)"
   ]
  },
  {
   "cell_type": "code",
   "execution_count": null,
   "metadata": {},
   "outputs": [],
   "source": []
  },
  {
   "cell_type": "code",
   "execution_count": null,
   "metadata": {},
   "outputs": [],
   "source": []
  }
 ],
 "metadata": {
  "kernelspec": {
   "display_name": "Python 3",
   "language": "python",
   "name": "python3"
  },
  "language_info": {
   "codemirror_mode": {
    "name": "ipython",
    "version": 3
   },
   "file_extension": ".py",
   "mimetype": "text/x-python",
   "name": "python",
   "nbconvert_exporter": "python",
   "pygments_lexer": "ipython3",
   "version": "3.7.4"
  }
 },
 "nbformat": 4,
 "nbformat_minor": 2
}
