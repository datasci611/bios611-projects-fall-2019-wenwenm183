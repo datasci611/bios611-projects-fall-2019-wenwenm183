{
 "cells": [
  {
   "cell_type": "code",
   "execution_count": 36,
   "metadata": {},
   "outputs": [],
   "source": [
    "# load Python packages used data wrangling\n",
    "import pandas as pd\n",
    "import numpy as np\n",
    "import datetime as datetime\n",
    "\n",
    "# Datasets\n",
    "health2 = pd.read_csv(\"https://raw.githubusercontent.com/biodatascience/datasci611/gh-pages/data/project2_2019/HEALTH_INS_ENTRY_191102.tsv\", sep = '\\t')\n",
    "client = pd.read_csv('https://raw.githubusercontent.com/biodatascience/datasci611/gh-pages/data/project2_2019/CLIENT_191102.tsv',sep='\\t')\n",
    "\n",
    "#identify clients with insurance\n",
    "yeshealth=health2.loc[health2['Covered (Entry)']=='Yes' ]\n",
    "\n",
    "#identify clients without insurancece\n",
    "insurance_entry_sum = health2.groupby('Client ID')['Covered (Entry)'].apply(lambda x: (x=='Yes').sum()).reset_index(name='Insurance (Entry)')\n",
    "noinsurance=insurance_entry_sum[insurance_entry_sum['Insurance (Entry)']==0]\n",
    "noinsurance1 = health2.merge(noinsurance, on=['Client ID'], how='right')\n",
    "\n",
    "#merge clients with and without insurance\n",
    "health = yeshealth.append([noinsurance1])\n",
    "\n",
    "\n",
    "# merge the two datasets\n",
    "health['Entry'] =  pd.to_datetime(health['Health Insurance Start Date (Entry)'], format='%m/%d/%Y')\n",
    "health1 = health.drop(['EE Provider ID','EE UID', 'Client Unique ID','Health Insurance End Date (Entry)','Provider (4307-provider)','Recordset ID (4307-recordset_id)','Date Added (4307-date_added)'], axis=1)\n",
    "client1 = client.drop(['EE Provider ID','EE UID','Client Unique ID',], axis=1)\n",
    "\n",
    "ch = client1.merge(health1, on=['Client ID'], how='left')\n",
    "\n",
    "ch['year']=pd.DatetimeIndex(ch['Entry']).year\n",
    "ch['month']=pd.DatetimeIndex(ch['Entry']).month\n",
    "\n",
    "#new datasets formed \n",
    "temp=ch.drop_duplicates('Client ID')\n",
    "visits= ch.drop(['Health Insurance Type (Entry)',],axis=1).drop_duplicates().groupby('Client ID').size().to_frame('Number of Visits')\n",
    "new= temp.merge(visits, on=['Client ID'], how='left')\n",
    "client_info=new[new['year']>= 2000]\n"
   ]
  },
  {
   "cell_type": "code",
   "execution_count": 37,
   "metadata": {},
   "outputs": [],
   "source": [
    "from pandas import DataFrame\n",
    "\n",
    "export_csv = client_info.to_csv (r'/Users/mwen/Documents/GitHub/bios611-projects-fall-2019-wenwenm183/project_3/data/final_project.csv', index = None, header=True)"
   ]
  },
  {
   "cell_type": "code",
   "execution_count": 39,
   "metadata": {},
   "outputs": [],
   "source": [
    "#new dataset \n",
    "from pandas import DataFrame\n",
    "client_info1=client_info[client_info['year']>= 2012]\n",
    "export_csv = client_info1.to_csv (r'/Users/mwen/Documents/GitHub/bios611-projects-fall-2019-wenwenm183/project_3/data/final_project1.csv', index = None, header=True)"
   ]
  },
  {
   "cell_type": "code",
   "execution_count": 28,
   "metadata": {},
   "outputs": [
    {
     "data": {
      "text/plain": [
       "29626"
      ]
     },
     "execution_count": 28,
     "metadata": {},
     "output_type": "execute_result"
    }
   ],
   "source": [
    "\n"
   ]
  },
  {
   "cell_type": "code",
   "execution_count": null,
   "metadata": {},
   "outputs": [],
   "source": []
  }
 ],
 "metadata": {
  "kernelspec": {
   "display_name": "Python 3",
   "language": "python",
   "name": "python3"
  },
  "language_info": {
   "codemirror_mode": {
    "name": "ipython",
    "version": 3
   },
   "file_extension": ".py",
   "mimetype": "text/x-python",
   "name": "python",
   "nbconvert_exporter": "python",
   "pygments_lexer": "ipython3",
   "version": "3.7.4"
  }
 },
 "nbformat": 4,
 "nbformat_minor": 2
}
